{
 "cells": [
  {
   "cell_type": "markdown",
   "metadata": {},
   "source": [
    "# 0x05 Gradient descent and backpropagation\n",
    "\n",
    "In this tutorial we will cover the implementations and how-tos for interacting\n",
    "with the backpropagation engine of PyTorch.\n",
    "\n",
    "PyTorch is the go-to library for deep learning in Python especially if you are building a custom model on your own.\n",
    "You will be very likely be using PyTorch when you are doing your research."
   ]
  },
  {
   "cell_type": "markdown",
   "metadata": {},
   "source": [
    "> 💡 **NOTE**: \n",
    ">\n",
    "> We assume you have already learnt the fundamentals of derivatives and gradients.\n",
    ">\n",
    "> If you need a quick recap, check out this explanation [here](https://pytorch.org/tutorials/beginner/blitz/autograd_tutorial.html#optional-reading-vector-calculus-using-autograd) by the PyTorch team.\n",
    ">\n",
    "> Another suggested deep walkthrough is this [3blue1brown video](https://www.youtube.com/watch?v=tIeHLnjs5U8) on the topic."
   ]
  },
  {
   "cell_type": "markdown",
   "metadata": {},
   "source": [
    "## 1. Backpropagation\n",
    "\n",
    "One of PyTorch tensors' biggest difference with NumPy arrays is that they can track gradients.\n",
    "\n",
    "Two important ways to interact with it are `requires_grad` and the `.grad` property.\n",
    "Let us see it with a simple example.\n",
    "\n",
    "Consider this formula:\n",
    "$$\n",
    "y = w_1x^2 + w_2x + b\n",
    "$$\n",
    "\n",
    "where $x$ is the input."
   ]
  },
  {
   "cell_type": "markdown",
   "metadata": {},
   "source": [
    "> 🤔 **THINKING**\n",
    ">\n",
    "> - What is $\\frac{\\partial y}{\\partial w_1}$, $\\frac{\\partial y}{\\partial w_2}$, $\\frac{\\partial y}{\\partial b}$? Compute by hand."
   ]
  },
  {
   "cell_type": "markdown",
   "metadata": {},
   "source": [
    "To prove your computation, let us implement this formula in PyTorch."
   ]
  },
  {
   "cell_type": "code",
   "execution_count": 1,
   "metadata": {},
   "outputs": [
    {
     "name": "stdout",
     "output_type": "stream",
     "text": [
      "tensor([14.], grad_fn=<AddBackward0>)\n"
     ]
    }
   ],
   "source": [
    "import torch\n",
    "\n",
    "x = torch.tensor([2.0])\n",
    "\n",
    "# Identify the parameters that you need to compute gradients for\n",
    "# and set requires_grad=True\n",
    "w1 = torch.tensor([1.0], requires_grad=True)\n",
    "w2 = torch.tensor([3.0], requires_grad=True)\n",
    "b = torch.tensor([4.0], requires_grad=True)\n",
    "# You will see why we used an intermediate variable z here.\n",
    "z = w1 * torch.pow(x, 2) + w2 * x\n",
    "y = z + b\n",
    "print(y)"
   ]
  },
  {
   "cell_type": "code",
   "execution_count": 2,
   "metadata": {},
   "outputs": [],
   "source": [
    "# Compute backpropagation\n",
    "y.backward()"
   ]
  },
  {
   "cell_type": "code",
   "execution_count": 3,
   "metadata": {},
   "outputs": [
    {
     "name": "stdout",
     "output_type": "stream",
     "text": [
      "tensor([4.])\n",
      "tensor([2.])\n",
      "tensor([1.])\n"
     ]
    }
   ],
   "source": [
    "# Gradient w.r.t. w1, w2, and b are stored in .grad of the tensors\n",
    "print(w1.grad)  # dy/dw1\n",
    "print(w2.grad)  # dy/dw2\n",
    "print(b.grad)  # dy/db"
   ]
  },
  {
   "cell_type": "markdown",
   "metadata": {},
   "source": [
    "Is your computation correct?"
   ]
  },
  {
   "cell_type": "markdown",
   "metadata": {},
   "source": [
    "Now, you may want to also get $\\frac{dy}{dz}$ from PyTorch."
   ]
  },
  {
   "cell_type": "code",
   "execution_count": 4,
   "metadata": {},
   "outputs": [
    {
     "name": "stdout",
     "output_type": "stream",
     "text": [
      "None\n"
     ]
    },
    {
     "name": "stderr",
     "output_type": "stream",
     "text": [
      "/var/folders/7w/nb0jf_fx2xq3ysf1t9kyrt4w0000gn/T/ipykernel_85138/385971827.py:1: UserWarning: The .grad attribute of a Tensor that is not a leaf Tensor is being accessed. Its .grad attribute won't be populated during autograd.backward(). If you indeed want the .grad field to be populated for a non-leaf Tensor, use .retain_grad() on the non-leaf Tensor. If you access the non-leaf Tensor by mistake, make sure you access the leaf Tensor instead. See github.com/pytorch/pytorch/pull/30531 for more informations. (Triggered internally at /Users/runner/work/pytorch/pytorch/pytorch/build/aten/src/ATen/core/TensorBody.h:494.)\n",
      "  print(z.grad)  # dy/dz\n"
     ]
    }
   ],
   "source": [
    "print(z.grad)  # dy/dz"
   ]
  },
  {
   "cell_type": "markdown",
   "metadata": {},
   "source": [
    "Oh no 😱, we cannot do it!\n",
    "\n",
    "This is because PyTorch does not update the gradients on **non-leaf** tensors. This makes sense because model parameters are leaf tensors. If you really **DO** want to compute the gradients of non-leaf tensors for specific use cases, you can use [`.retain_grad()`](https://pytorch.org/docs/stable/generated/torch.Tensor.retain_grad.html)."
   ]
  },
  {
   "cell_type": "markdown",
   "metadata": {},
   "source": [
    "> 📚 **EXERCISE**\n",
    ">\n",
    "> - Define an expression on your own and get the gradients using backpropagation.\n",
    "> - Currently, our `y` is a scalar. Although loss is usually scalar in deep learning, what if we have a vector as `y`? How do we compute the gradients in this case?"
   ]
  },
  {
   "cell_type": "code",
   "execution_count": 5,
   "metadata": {},
   "outputs": [],
   "source": [
    "# === Your code here ==="
   ]
  },
  {
   "cell_type": "markdown",
   "metadata": {},
   "source": [
    "## 2. Toggling gradient tracking"
   ]
  },
  {
   "cell_type": "markdown",
   "metadata": {},
   "source": [
    "When you are evaluating a model, you do not need to update the weights, and hence you do not need to track the gradients.\n",
    "\n",
    "Disabling gradient tracking helps reduce memory consumption and accelerate computations.\n",
    "\n",
    "In PyTorch, we use `torch.no_grad()` to disable gradient tracking."
   ]
  },
  {
   "cell_type": "code",
   "execution_count": 6,
   "metadata": {},
   "outputs": [
    {
     "name": "stderr",
     "output_type": "stream",
     "text": [
      "Downloading: \"https://download.pytorch.org/models/resnet18-f37072fd.pth\" to /Users/louishhy/.cache/torch/hub/checkpoints/resnet18-f37072fd.pth\n",
      "100%|██████████| 44.7M/44.7M [00:07<00:00, 6.57MB/s]\n"
     ]
    },
    {
     "name": "stdout",
     "output_type": "stream",
     "text": [
      "torch.Size([1, 1000])\n"
     ]
    }
   ],
   "source": [
    "import torchvision\n",
    "\n",
    "resnet = torchvision.models.resnet18(\n",
    "    weights=torchvision.models.ResNet18_Weights.DEFAULT\n",
    ")\n",
    "x = torch.randn(1, 3, 224, 224)  # batch size 1, 3 channels, 224x224 image\n",
    "with torch.no_grad():\n",
    "    y = resnet(x)\n",
    "print(y.shape)  # 1000 classes"
   ]
  },
  {
   "cell_type": "markdown",
   "metadata": {},
   "source": [
    "> You may also notice that there is a `torch.eval()` method in PyTorch. It is different from `torch.no_grad()`. `eval()` is used to set the model in evaluation mode and it is mainly used for batch normalization and dropout layers. You will learn more about it in the following chapters."
   ]
  },
  {
   "cell_type": "markdown",
   "metadata": {},
   "source": [
    "## 3. Gradient descent and optimizing process"
   ]
  },
  {
   "cell_type": "markdown",
   "metadata": {},
   "source": [
    "You might already be using PyTorch optimizers to finetune your models. \n",
    "\n",
    "Optimizers update the model parameters using the gradients computed by backpropagation, and determines update process using certain algorithms.\n",
    "\n",
    "Today, we will use a simple example to show what is happening during the optimization process."
   ]
  },
  {
   "cell_type": "markdown",
   "metadata": {},
   "source": [
    "To make the demonstration clear, suppose we have an EXTREMELY simple model, mapping a 3D vector to a scalar:\n",
    "$$\n",
    "y = w^Tx + b, x \\in \\mathbb{R}^3, w \\in \\mathbb{R}^3, b \\in \\mathbb{R}\n",
    "$$"
   ]
  },
  {
   "cell_type": "code",
   "execution_count": 7,
   "metadata": {},
   "outputs": [
    {
     "name": "stdout",
     "output_type": "stream",
     "text": [
      "w: tensor([1., 1., 1.], requires_grad=True), b: tensor([1.], requires_grad=True)\n"
     ]
    }
   ],
   "source": [
    "# We need gradient tracking for the parameters\n",
    "w = torch.ones(size=(3,), requires_grad=True)\n",
    "b = torch.ones(size=(1,), requires_grad=True)\n",
    "print(f\"w: {w}, b: {b}\")"
   ]
  },
  {
   "cell_type": "markdown",
   "metadata": {},
   "source": [
    "In PyTorch, the optimizers are implemented in the `torch.optim` module.\n",
    "\n",
    "Here we will use the `SGD` optimizer, which implements the stochastic gradient descent algorithm. It's basic form is given by:\n",
    "$$\n",
    "w = w - \\eta \\frac{\\partial L}{\\partial w}\n",
    "$$\n",
    "where $\\eta$ is the learning rate and $L$ is the loss function."
   ]
  },
  {
   "cell_type": "code",
   "execution_count": 8,
   "metadata": {},
   "outputs": [],
   "source": [
    "optimizer = torch.optim.SGD([w, b], lr=0.01)"
   ]
  },
  {
   "cell_type": "markdown",
   "metadata": {},
   "source": [
    "Let's see it in action by supposing that we have a single input to this model."
   ]
  },
  {
   "cell_type": "code",
   "execution_count": 9,
   "metadata": {},
   "outputs": [
    {
     "name": "stdout",
     "output_type": "stream",
     "text": [
      "y: tensor([10.], grad_fn=<AddBackward0>)\n"
     ]
    }
   ],
   "source": [
    "x = torch.tensor([2.0, 3.0, 4.0])\n",
    "y = torch.dot(w, x) + b\n",
    "print(f\"y: {y}\")"
   ]
  },
  {
   "cell_type": "markdown",
   "metadata": {},
   "source": [
    "Suppose that, our dataset tell us that the ground-truth is $y = 2$ and we define our loss function as the squared error:\n",
    "$$\n",
    "L = \\frac{1}{2}(y - y_{pred})^2\n",
    "$$\n",
    "where $y_{pred}$ is the output of our model, $y$ is the ground-truth."
   ]
  },
  {
   "cell_type": "markdown",
   "metadata": {},
   "source": [
    "> 🤔 **THINKING**\n",
    ">\n",
    "> - Work out $\\frac{\\partial L}{\\partial w}$ and $\\frac{\\partial L}{\\partial b}$ by hand.\n",
    "> - Based on your computation, why do we have a factor of $\\frac{1}{2}$ in the loss function?"
   ]
  },
  {
   "cell_type": "code",
   "execution_count": 10,
   "metadata": {},
   "outputs": [
    {
     "name": "stdout",
     "output_type": "stream",
     "text": [
      "loss: tensor([32.], grad_fn=<MulBackward0>)\n"
     ]
    }
   ],
   "source": [
    "# Calculate the loss\n",
    "gt = torch.tensor([2.0])\n",
    "loss = 0.5 * torch.pow(gt - y, 2)\n",
    "print(f\"loss: {loss}\")"
   ]
  },
  {
   "cell_type": "code",
   "execution_count": 11,
   "metadata": {},
   "outputs": [
    {
     "name": "stdout",
     "output_type": "stream",
     "text": [
      "w.grad: tensor([16., 24., 32.]), w: tensor([1., 1., 1.], requires_grad=True)\n",
      "b.grad: tensor([8.]), b: tensor([1.], requires_grad=True)\n"
     ]
    }
   ],
   "source": [
    "# Get the gradients\n",
    "loss.backward()\n",
    "print(f\"w.grad: {w.grad}, w: {w}\")\n",
    "print(f\"b.grad: {b.grad}, b: {b}\")"
   ]
  },
  {
   "cell_type": "markdown",
   "metadata": {},
   "source": [
    "We step once through the optimization process and see how the model parameters are updated."
   ]
  },
  {
   "cell_type": "code",
   "execution_count": 12,
   "metadata": {},
   "outputs": [],
   "source": [
    "optimizer.step()"
   ]
  },
  {
   "cell_type": "code",
   "execution_count": 13,
   "metadata": {},
   "outputs": [
    {
     "name": "stdout",
     "output_type": "stream",
     "text": [
      "w.grad: tensor([16., 24., 32.]), w: tensor([0.8400, 0.7600, 0.6800], requires_grad=True)\n",
      "b.grad: tensor([8.]), b: tensor([0.9200], requires_grad=True)\n"
     ]
    }
   ],
   "source": [
    "print(f\"w.grad: {w.grad}, w: {w}\")\n",
    "print(f\"b.grad: {b.grad}, b: {b}\")"
   ]
  },
  {
   "cell_type": "markdown",
   "metadata": {},
   "source": [
    "> 🤔 **THINKING**\n",
    ">\n",
    "> Did your hand-computation match the PyTorch output?"
   ]
  },
  {
   "cell_type": "markdown",
   "metadata": {},
   "source": [
    "## 4. Momentum\n",
    "\n",
    "We have seen how \"vanilla\" SGD works in the previous section. Over the years, many improvements have been proposed to the SGD algorithm. One of them is called **momentum**. \n",
    "\n",
    "Just like in physics, momentum is done by adding a fraction of the previous update (\"velocity\") to the current one.\n",
    "$$\n",
    "v_t = \\frac{\\partial L}{\\partial w} + \\mu v_{t-1},\n",
    "\\\\\n",
    "w = w - \\eta v_t\n",
    "$$\n",
    "where $\\mu$ is the momentum coefficient, $v_{t-1}$ is the previous update \"velocity\", and $\\eta$ is the learning rate."
   ]
  },
  {
   "cell_type": "markdown",
   "metadata": {},
   "source": [
    "How about we try it out in practice? We will use the same model as before, but this time we will add momentum to the SGD optimizer."
   ]
  },
  {
   "cell_type": "code",
   "execution_count": 14,
   "metadata": {},
   "outputs": [],
   "source": [
    "# Prepare two datapoint to simulate two updates\n",
    "x_seq = torch.tensor([2.0, 3.0, 4.0]), torch.tensor([3.0, 2.0, -5.0])\n",
    "gt_seq = torch.tensor([2.0]), torch.tensor([5.0])"
   ]
  },
  {
   "cell_type": "code",
   "execution_count": 15,
   "metadata": {},
   "outputs": [],
   "source": [
    "# Normal gradient descent\n",
    "w_sgd = torch.ones(size=(3,), requires_grad=True)\n",
    "b_sgd = torch.ones(size=(1,), requires_grad=True)\n",
    "optim_sgd = torch.optim.SGD([w_sgd, b_sgd], lr=0.01)\n",
    "sgd_record = [(w_sgd.clone(), b_sgd.clone())]\n",
    "for i in range(2):\n",
    "    x = x_seq[i]\n",
    "    gt = gt_seq[i]\n",
    "    y = torch.dot(w_sgd, x) + b_sgd\n",
    "    loss = 0.5 * torch.pow(gt - y, 2)\n",
    "    loss.backward()\n",
    "    optim_sgd.step()\n",
    "    optim_sgd.zero_grad()\n",
    "    sgd_record.append((w_sgd.clone(), b_sgd.clone()))"
   ]
  },
  {
   "cell_type": "code",
   "execution_count": 16,
   "metadata": {},
   "outputs": [
    {
     "name": "stdout",
     "output_type": "stream",
     "text": [
      "diff_w_sgd: [tensor([0.1600, 0.2400, 0.3200], grad_fn=<SubBackward0>), tensor([-0.1032, -0.0688,  0.1720], grad_fn=<SubBackward0>)]\n"
     ]
    }
   ],
   "source": [
    "# Retrieve the diff\n",
    "diff_w_sgd = [\n",
    "    sgd_record[i][0] - sgd_record[i + 1][0] for i in range(len(sgd_record) - 1)\n",
    "]\n",
    "print(f\"diff_w_sgd: {diff_w_sgd}\")"
   ]
  },
  {
   "cell_type": "code",
   "execution_count": 17,
   "metadata": {},
   "outputs": [
    {
     "name": "stdout",
     "output_type": "stream",
     "text": [
      "diff_w_momentum: [tensor([0.1600, 0.2400, 0.3200], grad_fn=<SubBackward0>), tensor([0.0408, 0.1472, 0.4600], grad_fn=<SubBackward0>)]\n"
     ]
    }
   ],
   "source": [
    "# SGD with momentum\n",
    "w_momentum = torch.ones(size=(3,), requires_grad=True)\n",
    "b_momentum = torch.ones(size=(1,), requires_grad=True)\n",
    "optim_momentum = torch.optim.SGD([w_momentum, b_momentum], lr=0.01, momentum=0.9)\n",
    "momentum_record = [(w_momentum.clone(), b_momentum.clone())]\n",
    "\n",
    "for i in range(2):\n",
    "    x = x_seq[i]\n",
    "    gt = gt_seq[i]\n",
    "    y = torch.dot(w_momentum, x) + b_momentum\n",
    "    loss = 0.5 * torch.pow(gt - y, 2)\n",
    "    loss.backward()\n",
    "    optim_momentum.step()\n",
    "    optim_momentum.zero_grad()\n",
    "    momentum_record.append((w_momentum.clone(), b_momentum.clone()))\n",
    "\n",
    "# Retrieve the diff\n",
    "diff_w_momentum = [\n",
    "    momentum_record[i][0] - momentum_record[i + 1][0]\n",
    "    for i in range(len(momentum_record) - 1)\n",
    "]\n",
    "print(f\"diff_w_momentum: {diff_w_momentum}\")"
   ]
  },
  {
   "cell_type": "code",
   "execution_count": 18,
   "metadata": {},
   "outputs": [],
   "source": [
    "# Don't forget to detach the tensors before visualizing them\n",
    "diff_w_sgd = [diff_w.detach().numpy() for diff_w in diff_w_sgd]  # type: ignore\n",
    "diff_w_momentum = [diff_w.detach().numpy() for diff_w in diff_w_momentum]  # type: ignore"
   ]
  },
  {
   "cell_type": "code",
   "execution_count": 19,
   "metadata": {},
   "outputs": [
    {
     "data": {
      "image/png": "[encoded data removed]",
      "text/plain": [
       "<Figure size 1200x500 with 2 Axes>"
      ]
     },
     "metadata": {},
     "output_type": "display_data"
    }
   ],
   "source": [
    "import matplotlib.pyplot as plt\n",
    "\n",
    "x_lim = (-0.1, 0.5)\n",
    "y_lim = (-0.1, 0.5)\n",
    "\n",
    "# Create figure\n",
    "fig, (ax1, ax2) = plt.subplots(1, 2, figsize=(12, 5))\n",
    "\n",
    "# Plot SGD vectors tail-to-head for the first two features\n",
    "ax1.quiver(\n",
    "    0,\n",
    "    0,\n",
    "    diff_w_sgd[0][0],\n",
    "    diff_w_sgd[0][1],\n",
    "    angles=\"xy\",\n",
    "    scale_units=\"xy\",\n",
    "    scale=1,\n",
    "    color=\"blue\",\n",
    "    label=\"Step 1\",\n",
    ")\n",
    "ax1.quiver(\n",
    "    diff_w_sgd[0][0],\n",
    "    diff_w_sgd[0][1],\n",
    "    diff_w_sgd[1][0],\n",
    "    diff_w_sgd[1][1],\n",
    "    angles=\"xy\",\n",
    "    scale_units=\"xy\",\n",
    "    scale=1,\n",
    "    color=\"red\",\n",
    "    label=\"Step 2\",\n",
    ")\n",
    "ax1.set_xlim(*x_lim)\n",
    "ax1.set_ylim(*y_lim)\n",
    "ax1.grid(True)\n",
    "ax1.set_title(\"SGD Vectors (Tail-to-Head)\")\n",
    "ax1.set_xlabel(\"x\")\n",
    "ax1.set_ylabel(\"y\")\n",
    "ax1.legend(loc=\"lower right\")\n",
    "\n",
    "# Plot Momentum vectors tail-to-head\n",
    "ax2.quiver(\n",
    "    0,\n",
    "    0,\n",
    "    diff_w_momentum[0][0],\n",
    "    diff_w_momentum[0][1],\n",
    "    angles=\"xy\",\n",
    "    scale_units=\"xy\",\n",
    "    scale=1,\n",
    "    color=\"blue\",\n",
    "    label=\"Step 1\",\n",
    ")\n",
    "ax2.quiver(\n",
    "    diff_w_momentum[0][0],\n",
    "    diff_w_momentum[0][1],\n",
    "    diff_w_momentum[1][0],\n",
    "    diff_w_momentum[1][1],\n",
    "    angles=\"xy\",\n",
    "    scale_units=\"xy\",\n",
    "    scale=1,\n",
    "    color=\"red\",\n",
    "    label=\"Step 2\",\n",
    ")\n",
    "ax2.quiver(\n",
    "    diff_w_momentum[0][0],\n",
    "    diff_w_momentum[0][1],\n",
    "    0.9 * diff_w_momentum[0][0],\n",
    "    0.9 * diff_w_momentum[0][1],\n",
    "    angles=\"xy\",\n",
    "    scale_units=\"xy\",\n",
    "    scale=1,\n",
    "    color=\"tab:blue\",\n",
    "    label=\"Step 1's momentum\",\n",
    "    alpha=0.3,\n",
    ")\n",
    "ax2.quiver(\n",
    "    diff_w_sgd[0][0],\n",
    "    diff_w_sgd[0][1],\n",
    "    diff_w_sgd[1][0],\n",
    "    diff_w_sgd[1][1],\n",
    "    angles=\"xy\",\n",
    "    scale_units=\"xy\",\n",
    "    scale=1,\n",
    "    color=\"tab:red\",\n",
    "    label=\"Step 2 (SGD)\",\n",
    "    alpha=0.3,\n",
    ")\n",
    "ax2.set_xlim(*x_lim)\n",
    "ax2.set_ylim(*y_lim)\n",
    "ax2.grid(True)\n",
    "ax2.set_title(\"Momentum Vectors (Tail-to-Head)\")\n",
    "ax2.set_xlabel(\"x\")\n",
    "ax2.set_ylabel(\"y\")\n",
    "ax2.legend(loc=\"lower right\")\n",
    "\n",
    "plt.tight_layout()\n",
    "plt.show()"
   ]
  },
  {
   "cell_type": "markdown",
   "metadata": {},
   "source": [
    "You can observe that, the momentum \"pulls\" the original update vector closer to the previous update.\n",
    "\n",
    "Think of this process as navigating on the error function landscape, where you have a tendency to keep your original direction rather than relying solely on observing the slopes around you.\n",
    "\n",
    "Because of this characteristic, momentum is important in deep learning as it:\n",
    "1. Helps to accelerate the convergence of the model on plateaus, since the original update vector may be small (the slope is small).\n",
    "2. Helps escape local minima, especially in non-convex optimization problems (which is usually the case in deep learning)."
   ]
  },
  {
   "cell_type": "markdown",
   "metadata": {},
   "source": [
    "> 📚 **EXERCISE**\n",
    ">\n",
    "> - Except the `SGD` optimizer, there are also other optimizers in PyTorch. \n",
    "> For example, `Adam` is a very popular optimizer in deep learning.\n",
    "> Learn about them and try to implement them in the optimization process."
   ]
  },
  {
   "cell_type": "code",
   "execution_count": 20,
   "metadata": {},
   "outputs": [],
   "source": [
    "# === Your code here ==="
   ]
  }
 ],
 "metadata": {
  "kernelspec": {
   "display_name": ".venv",
   "language": "python",
   "name": "python3"
  },
  "language_info": {
   "codemirror_mode": {
    "name": "ipython",
    "version": 3
   },
   "file_extension": ".py",
   "mimetype": "text/x-python",
   "name": "python",
   "nbconvert_exporter": "python",
   "pygments_lexer": "ipython3",
   "version": "3.13.3"
  }
 },
 "nbformat": 4,
 "nbformat_minor": 2
}
